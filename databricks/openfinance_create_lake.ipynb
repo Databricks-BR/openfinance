{
 "cells": [
  {
   "cell_type": "markdown",
   "metadata": {
    "application/vnd.databricks.v1+cell": {
     "cellMetadata": {},
     "inputWidgets": {},
     "nuid": "2c67cb47-89e0-4c6e-9d03-8ee48cb2939b",
     "showTitle": false,
     "title": ""
    }
   },
   "source": [
    "<img src=\"https://github.com/Databricks-BR/openfinance/blob/main/images/openfinance_head.png?raw=true\">"
   ]
  },
  {
   "cell_type": "markdown",
   "metadata": {
    "application/vnd.databricks.v1+cell": {
     "cellMetadata": {},
     "inputWidgets": {},
     "nuid": "4f5a819d-55f4-4aa8-8859-f63d3164915a",
     "showTitle": false,
     "title": ""
    }
   },
   "source": [
    "### Version Code Control\n",
    "\n",
    "| versão | data | autor | e-mail | alterações |\n",
    "| --- | --- | --- | --- | --- |\n",
    "| 1.0 | 10-ago-2023 | Luis Assunção | luis.assuncao@databricks.com | Primeira versão |"
   ]
  },
  {
   "cell_type": "markdown",
   "metadata": {
    "application/vnd.databricks.v1+cell": {
     "cellMetadata": {},
     "inputWidgets": {},
     "nuid": "805bf300-4985-41c0-afab-3db2d045b869",
     "showTitle": false,
     "title": ""
    }
   },
   "source": [
    "### Description\n",
    "\n",
    "| projeto | aplicação | módulo | objetivo |\n",
    "| --- | --- | --- | --- | \n",
    "| Open Finance Lakehouse | Finance | Ingestão | Ingestão arquivo CSV |"
   ]
  },
  {
   "cell_type": "code",
   "execution_count": 0,
   "metadata": {
    "application/vnd.databricks.v1+cell": {
     "cellMetadata": {
      "byteLimit": 2048000,
      "rowLimit": 10000
     },
     "inputWidgets": {},
     "nuid": "26322048-8366-4f42-82d6-a387d00018eb",
     "showTitle": true,
     "title": "Criação do Catálogo e dos Databases"
    }
   },
   "outputs": [
    {
     "output_type": "display_data",
     "data": {
      "text/html": [
       "<style scoped>\n",
       "  .table-result-container {\n",
       "    max-height: 300px;\n",
       "    overflow: auto;\n",
       "  }\n",
       "  table, th, td {\n",
       "    border: 1px solid black;\n",
       "    border-collapse: collapse;\n",
       "  }\n",
       "  th, td {\n",
       "    padding: 5px;\n",
       "  }\n",
       "  th {\n",
       "    text-align: left;\n",
       "  }\n",
       "</style><div class='table-result-container'><table class='table-result'><thead style='background-color: white'><tr></tr></thead><tbody></tbody></table></div>"
      ]
     },
     "metadata": {
      "application/vnd.databricks.v1+output": {
       "addedWidgets": {},
       "aggData": [],
       "aggError": "",
       "aggOverflow": false,
       "aggSchema": [],
       "aggSeriesLimitReached": false,
       "aggType": "",
       "arguments": {},
       "columnCustomDisplayInfos": {},
       "data": [],
       "datasetInfos": [],
       "dbfsResultPath": null,
       "isJsonSchema": true,
       "metadata": {},
       "overflow": false,
       "plotOptions": {
        "customPlotOptions": {},
        "displayType": "table",
        "pivotAggregation": null,
        "pivotColumns": null,
        "xColumns": null,
        "yColumns": null
       },
       "removedWidgets": [],
       "schema": [],
       "type": "table"
      }
     },
     "output_type": "display_data"
    }
   ],
   "source": [
    "%sql\n",
    "\n",
    "-- Criacao do catalogo \n",
    "CREATE CATALOG IF NOT EXISTS openfinance COMMENT 'Open Finance Lakehouse';;\n",
    "\n",
    "use catalog openfinance;\n",
    "\n",
    "-- Criacao dos Databases\n",
    "\n",
    "CREATE SCHEMA IF NOT EXISTS internal_data COMMENT 'Dados internos da Instituição';\n",
    "\n",
    "CREATE SCHEMA IF NOT EXISTS external_data COMMENT 'Dados externos e dados compartilhados por consentimento de outras Instituição';\n",
    "\n",
    "CREATE SCHEMA IF NOT EXISTS data_science COMMENT 'Resultados de Modelos de Machine Learning, recomendações e dados analisados';\n",
    "\n"
   ]
  },
  {
   "cell_type": "code",
   "execution_count": 0,
   "metadata": {
    "application/vnd.databricks.v1+cell": {
     "cellMetadata": {
      "byteLimit": 2048000,
      "rowLimit": 10000
     },
     "inputWidgets": {},
     "nuid": "d0c7dcaa-87cd-4495-89ed-78ff67cb03e4",
     "showTitle": false,
     "title": ""
    }
   },
   "outputs": [],
   "source": [
    "%python\n",
    "import pandas as pd\n",
    "from pyspark.sql import SparkSession\n",
    "\n",
    "url = f\"https://raw.githubusercontent.com//Databricks-BR/openfinance/main/dados/\"\n",
    "\n",
    "catalog_name = f\"openfinance\"\n",
    "schema_name =  f\"external_data\"\n",
    "prefix_table = f\"gold\"\n",
    "\n"
   ]
  },
  {
   "cell_type": "code",
   "execution_count": 0,
   "metadata": {
    "application/vnd.databricks.v1+cell": {
     "cellMetadata": {
      "byteLimit": 2048000,
      "rowLimit": 10000
     },
     "inputWidgets": {},
     "nuid": "b081f2d3-6f2c-4241-8c05-65d4e9cce209",
     "showTitle": false,
     "title": ""
    }
   },
   "outputs": [],
   "source": [
    "%python\n",
    "\n",
    "entity_name  = f\"fundos_previdencia\"\n",
    "\n",
    "table_name   = f\"{catalog_name}.{schema_name}.{prefix_table}_{entity_name}\"\n",
    "file_name = f\"{url}{entity_name}.csv\"\n",
    "\n",
    "df = pd.read_csv(file_name)                          # leitura arquivo CSV utilizando Dataframe Pandas\n",
    "s_df = spark.createDataFrame(df)                     # converte Dataframe Pandas em Spark Dataframe\n",
    "s_df.write.mode(\"overwrite\").saveAsTable(table_name) # grava o DataFrame na Tabela Delta"
   ]
  },
  {
   "cell_type": "code",
   "execution_count": 0,
   "metadata": {
    "application/vnd.databricks.v1+cell": {
     "cellMetadata": {
      "byteLimit": 2048000,
      "implicitDf": true,
      "rowLimit": 10000
     },
     "inputWidgets": {},
     "nuid": "865bfff6-e5bd-44a9-82ae-9e933e468288",
     "showTitle": false,
     "title": ""
    }
   },
   "outputs": [
    {
     "output_type": "display_data",
     "data": {
      "text/html": [
       "<style scoped>\n",
       "  .table-result-container {\n",
       "    max-height: 300px;\n",
       "    overflow: auto;\n",
       "  }\n",
       "  table, th, td {\n",
       "    border: 1px solid black;\n",
       "    border-collapse: collapse;\n",
       "  }\n",
       "  th, td {\n",
       "    padding: 5px;\n",
       "  }\n",
       "  th {\n",
       "    text-align: left;\n",
       "  }\n",
       "</style><div class='table-result-container'><table class='table-result'><thead style='background-color: white'><tr></tr></thead><tbody></tbody></table></div>"
      ]
     },
     "metadata": {
      "application/vnd.databricks.v1+output": {
       "addedWidgets": {},
       "aggData": [],
       "aggError": "",
       "aggOverflow": false,
       "aggSchema": [],
       "aggSeriesLimitReached": false,
       "aggType": "",
       "arguments": {},
       "columnCustomDisplayInfos": {},
       "data": [],
       "datasetInfos": [],
       "dbfsResultPath": null,
       "isJsonSchema": true,
       "metadata": {
        "dataframeName": null
       },
       "overflow": false,
       "plotOptions": {
        "customPlotOptions": {},
        "displayType": "table",
        "pivotAggregation": null,
        "pivotColumns": null,
        "xColumns": null,
        "yColumns": null
       },
       "removedWidgets": [],
       "schema": [],
       "type": "table"
      }
     },
     "output_type": "display_data"
    }
   ],
   "source": [
    "%sql\n",
    "\n",
    "use catalog openfinance;\n",
    "use external_data;\n",
    "\n",
    "ALTER TABLE gold_fundos_previdencia ALTER COLUMN cnpj_fundo COMMENT 'numero do CNPJ do fundo';\n",
    "ALTER TABLE gold_fundos_previdencia ALTER COLUMN sigla_instituicao COMMENT 'sigla da instituicao financeira';\n",
    "ALTER TABLE gold_fundos_previdencia ALTER COLUMN nome_abreviado COMMENT 'nome abreviado do ativo';\n",
    "ALTER TABLE gold_fundos_previdencia ALTER COLUMN nome_ativo COMMENT 'nome do ativo';\n",
    "ALTER TABLE gold_fundos_previdencia ALTER COLUMN nome_gestor COMMENT 'nome do gestor do fundo';\n",
    "ALTER TABLE gold_fundos_previdencia ALTER COLUMN classificacao_cvm COMMENT 'classificação do fundo pela CVM';\n",
    "ALTER TABLE gold_fundos_previdencia ALTER COLUMN perfil_fundo COMMENT 'perfil do fundo (conservador, agressivo)';\n",
    "ALTER TABLE gold_fundos_previdencia ALTER COLUMN tipo_fundo COMMENT 'tipo do fundo';\n",
    "ALTER TABLE gold_fundos_previdencia ALTER COLUMN taxa_adm COMMENT 'taxa de administração';\n",
    "ALTER TABLE gold_fundos_previdencia ALTER COLUMN taxa_performance COMMENT 'taxa de performance';\n",
    "ALTER TABLE gold_fundos_previdencia ALTER COLUMN qde_meses_positivo COMMENT 'qde de meses com rentabilidade positiva';\n",
    "ALTER TABLE gold_fundos_previdencia ALTER COLUMN perc_meses_positivos COMMENT 'percentual de meses no ano com rentabilidade positiva';\n",
    "ALTER TABLE gold_fundos_previdencia ALTER COLUMN qde_meses_negativo COMMENT 'qde de meses com rentabilidade negativa';\n",
    "ALTER TABLE gold_fundos_previdencia ALTER COLUMN perc_meses_negativo COMMENT 'percentual de meses no ano com rentabilidade negativa';\n",
    "ALTER TABLE gold_fundos_previdencia ALTER COLUMN perc_meses_acima_cdi COMMENT 'percentual de meses no ano com rentabilidade a cima do CDI';\n",
    "ALTER TABLE gold_fundos_previdencia ALTER COLUMN qde_meses_acima_cdi COMMENT 'quantidade de meses no ano com rentabilidade a cima do CDI';\n",
    "ALTER TABLE gold_fundos_previdencia ALTER COLUMN qde_meses_abaixo_cdi COMMENT 'percentual de meses no ano com rentabilidade abaixo do CDI';\n",
    "ALTER TABLE gold_fundos_previdencia ALTER COLUMN perc_meses_abaixo_cdi COMMENT 'quantidade de meses no ano com rentabilidade abaixo do CDI';\n",
    "ALTER TABLE gold_fundos_previdencia ALTER COLUMN val_pl_atual COMMENT 'valor do patrimonio liquido atual do fundo';\n",
    "ALTER TABLE gold_fundos_previdencia ALTER COLUMN qde_cotistas COMMENT 'quantidade de cotistas do fundo';\n",
    "ALTER TABLE gold_fundos_previdencia ALTER COLUMN maior_retorno_mensal COMMENT 'maior taxa de retorno mensal';\n",
    "ALTER TABLE gold_fundos_previdencia ALTER COLUMN menor_retorno_mensal COMMENT 'menor  taxa de retorno mensal';\n",
    "ALTER TABLE gold_fundos_previdencia ALTER COLUMN rentabilidade_no_mes COMMENT 'rentabilidade acumulada no mês';\n",
    "ALTER TABLE gold_fundos_previdencia ALTER COLUMN rentabilidade_no_ano COMMENT 'rentabilidade acumulada no ano';\n",
    "ALTER TABLE gold_fundos_previdencia ALTER COLUMN rentabilidade_6_meses COMMENT 'rentabilidade acumulada em 6 meses';\n",
    "ALTER TABLE gold_fundos_previdencia ALTER COLUMN rentabilidade_12_meses COMMENT 'rentabilidade acumulada em 12 meses';\n",
    "ALTER TABLE gold_fundos_previdencia ALTER COLUMN rentabilidade_24_meses COMMENT 'rentabilidade acumulada em 24 meses';\n",
    "ALTER TABLE gold_fundos_previdencia ALTER COLUMN rentabilidade_36_meses COMMENT 'rentabilidade acumulada em 36 meses';\n",
    "ALTER TABLE gold_fundos_previdencia ALTER COLUMN rentabilidade_48_meses COMMENT 'rentabilidade acumulada em 48 meses';\n",
    "\n"
   ]
  }
 ],
 "metadata": {
  "application/vnd.databricks.v1+notebook": {
   "dashboards": [],
   "language": "python",
   "notebookMetadata": {
    "mostRecentlyExecutedCommandWithImplicitDF": {
     "commandId": 3416709542527765,
     "dataframes": [
      "_sqldf"
     ]
    },
    "pythonIndentUnit": 2
   },
   "notebookName": "openfinance_create_lake",
   "widgets": {}
  }
 },
 "nbformat": 4,
 "nbformat_minor": 0
}
